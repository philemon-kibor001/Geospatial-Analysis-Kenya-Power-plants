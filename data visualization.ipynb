{
  "nbformat": 4,
  "nbformat_minor": 0,
  "metadata": {
    "colab": {
      "private_outputs": true,
      "provenance": [],
      "toc_visible": true
    },
    "kernelspec": {
      "name": "python3",
      "display_name": "Python 3"
    },
    "language_info": {
      "name": "python"
    }
  },
  "cells": [
    {
      "cell_type": "code",
      "execution_count": null,
      "metadata": {
        "id": "ctVtNe5zF_8G"
      },
      "outputs": [],
      "source": []
    },
    {
      "cell_type": "code",
      "source": [
        "from google.colab import files\n",
        "uploaded = files.upload()"
      ],
      "metadata": {
        "id": "Y7uVVqEkZkOG"
      },
      "execution_count": null,
      "outputs": []
    },
    {
      "cell_type": "code",
      "source": [
        "\n",
        "import geopandas\n",
        "import matplotlib.pyplot as plt\n"
      ],
      "metadata": {
        "id": "QF5UrRJlH99G"
      },
      "execution_count": null,
      "outputs": []
    },
    {
      "cell_type": "code",
      "source": [
        "# If uploaded directly:\n",
        "gdf = geopandas.read_file(\"KEN_PowerPlants.shp\")  # Replace \"your_shapefile.shp\"\n",
        "\n",
        "# If in Google Drive:\n",
        "# gdf = geopandas.read_file(\"/content/drive/My Drive/path/to/your/shapefile.shp\")\n",
        "print(gdf.head()) # Show the first few rows\n",
        "print(gdf.crs)  # Show the Coordinate Reference System"
      ],
      "metadata": {
        "id": "fx894kHJIi5r"
      },
      "execution_count": null,
      "outputs": []
    },
    {
      "cell_type": "code",
      "source": [
        "gdf.plot()"
      ],
      "metadata": {
        "id": "gWmWvhuCJJQ9"
      },
      "execution_count": null,
      "outputs": []
    },
    {
      "cell_type": "code",
      "source": [
        "gdf.head(100)"
      ],
      "metadata": {
        "id": "NlG2wnZkJLl9"
      },
      "execution_count": null,
      "outputs": []
    },
    {
      "cell_type": "code",
      "source": [
        "# prompt: map the points\n",
        "\n",
        "from google.colab import files\n",
        "import geopandas\n",
        "import matplotlib.pyplot as plt\n",
        "\n",
        "# Assuming the shapefile is uploaded\n",
        "try:\n",
        "    gdf = geopandas.read_file(\"KEN_PowerPlants.shp\")\n",
        "    print(gdf.head())\n",
        "    print(gdf.crs)\n",
        "    gdf.plot()\n",
        "    plt.show()  # Display the plot\n",
        "    gdf.head(100)\n",
        "except FileNotFoundError:\n",
        "    print(\"Error: KEN_PowerPlants.shp not found. Please upload the file.\")\n",
        "    uploaded = files.upload()\n",
        "    try:\n",
        "        gdf = geopandas.read_file(list(uploaded.keys())[0]) #read the uploaded file\n",
        "        print(gdf.head())\n",
        "        print(gdf.crs)\n",
        "        gdf.plot()\n",
        "        plt.show()\n",
        "        gdf.head(100)\n",
        "    except Exception as e:\n",
        "        print(f\"An error occurred: {e}\")\n"
      ],
      "metadata": {
        "id": "CpLQ5hH_uuB_"
      },
      "execution_count": null,
      "outputs": []
    },
    {
      "cell_type": "code",
      "source": [
        "from google.colab import files\n",
        "uploaded = files.upload()"
      ],
      "metadata": {
        "id": "npoYgj9_y_yG"
      },
      "execution_count": null,
      "outputs": []
    },
    {
      "cell_type": "code",
      "source": [
        "# If uploaded directly:\n",
        "gdf1 = geopandas.read_file(\"ken_admbnda_adm0_iebc_20191031.shp\")  # Replace \"your_shapefile.shp\"\n",
        "\n",
        "# If in Google Drive:\n",
        "# gdf = geopandas.read_file(\"/content/drive/My Drive/path/to/your/shapefile.shp\")\n",
        "print(gdf1.head()) # Show the first few rows\n",
        "print(gdf1.crs)  # Show the Coordinate Reference System"
      ],
      "metadata": {
        "id": "UNO9deffzUzt"
      },
      "execution_count": null,
      "outputs": []
    },
    {
      "cell_type": "code",
      "source": [
        "gdf1.plot()\n",
        "gdf.plot()"
      ],
      "metadata": {
        "id": "IeSQOHCoznKN"
      },
      "execution_count": null,
      "outputs": []
    },
    {
      "cell_type": "code",
      "source": [
        "import pandas as pd\n",
        "import folium\n",
        "\n",
        "# Create a map centered on Kenya\n",
        "m = folium.Map(location=[-1.2921, 36.8219], zoom_start=6)\n",
        "\n",
        "# Add a marker for each power plant\n",
        "try:\n",
        "    gdf = gpd.read_file(\"KEN_PowerPlants.shp\")\n",
        "    # Check for the correct column name\n",
        "    name_column = next((col for col in gdf.columns if col.lower() == 'name'), None)\n",
        "\n",
        "    if name_column:\n",
        "        for index, row in gdf.iterrows():\n",
        "            folium.Marker(location=[row['geometry'].y, row['geometry'].x],\n",
        "                          popup=row[name_column]).add_to(m) # Use the correct column name\n",
        "    else:\n",
        "        print(\"Error: 'name' column not found in the shapefile. Please check the column names.\")\n",
        "except FileNotFoundError:\n",
        "    print(\"Error: KEN_PowerPlants.shp not found.\")\n",
        "\n",
        "# Display the map\n",
        "m"
      ],
      "metadata": {
        "id": "F-5xX2-z1x4-"
      },
      "execution_count": null,
      "outputs": []
    },
    {
      "cell_type": "code",
      "source": [
        "# prompt: add power plants to this map\n",
        "\n",
        "import pandas as pd\n",
        "# Assuming 'KEN_PowerPlants.shp' and 'ken_admbnda_adm0_iebc_20191031.shp' are already uploaded.\n",
        "\n",
        "import geopandas as gpd\n",
        "import folium\n",
        "\n",
        "# Create a map centered on Kenya\n",
        "m = folium.Map(location=[-1.2921, 36.8219], zoom_start=6)\n",
        "\n",
        "try:\n",
        "    # Read the power plant data\n",
        "    power_plants = gpd.read_file(\"KEN_PowerPlants.shp\")\n",
        "\n",
        "    # Add power plants to the map\n",
        "    for idx, row in power_plants.iterrows():\n",
        "      #Check if geometry is valid\n",
        "      if row['geometry'] is not None:\n",
        "        folium.CircleMarker(\n",
        "            location=[row['geometry'].y, row['geometry'].x],\n",
        "            radius=5,  # Adjust the radius as needed\n",
        "            color='red',\n",
        "            fill=True,\n",
        "            fill_color='red',\n",
        "            fill_opacity=0.6,\n",
        "            popup=row.get('NAME', 'PLANT') # Use 'NAME' or a suitable column for popup text\n",
        "        ).add_to(m)\n",
        "except FileNotFoundError:\n",
        "    print(\"Error: 'KEN_PowerPlants.shp' not found.\")\n",
        "except Exception as e:\n",
        "    print(f\"An error occurred: {e}\")\n",
        "\n",
        "# Display the map\n",
        "m\n"
      ],
      "metadata": {
        "id": "HbPBM4Uc1-SD"
      },
      "execution_count": null,
      "outputs": []
    },
    {
      "cell_type": "code",
      "source": [
        "# prompt: add pop ups containing names gotten from plant column\n",
        "\n",
        "import pandas as pd\n",
        "# Assuming 'KEN_PowerPlants.shp' is already uploaded and gdf is defined.\n",
        "\n",
        "# Create a map centered on Kenya\n",
        "m = folium.Map(location=[-1.2921, 36.8219], zoom_start=6)\n",
        "\n",
        "try:\n",
        "    # Read the power plant data (assuming gdf is already loaded)\n",
        "    # gdf = gpd.read_file(\"KEN_PowerPlants.shp\")  # No need to read again if gdf is already available\n",
        "\n",
        "    # Add power plants to the map with popups\n",
        "    for index, row in gdf.iterrows():\n",
        "        if row['geometry'] is not None:\n",
        "          folium.Marker(\n",
        "              location=[row['geometry'].y, row['geometry'].x],\n",
        "              popup=row['PLANT'], # Assuming the plant name is in the 'PLANT' column. Replace with your actual column name\n",
        "          ).add_to(m)\n",
        "\n",
        "except KeyError as e:\n",
        "    print(f\"Error: Column '{e}' not found in the shapefile. Please check the column names.\")\n",
        "except Exception as e:\n",
        "    print(f\"An error occurred: {e}\")\n",
        "\n",
        "\n",
        "# Display the map\n",
        "m\n"
      ],
      "metadata": {
        "id": "KjGdixly5dcg"
      },
      "execution_count": null,
      "outputs": []
    },
    {
      "cell_type": "code",
      "source": [],
      "metadata": {
        "id": "7rA5o7eTA_E5"
      },
      "execution_count": null,
      "outputs": []
    }
  ]
}